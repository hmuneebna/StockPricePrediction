{
  "nbformat": 4,
  "nbformat_minor": 0,
  "metadata": {
    "colab": {
      "name": "StockPricePrediction",
      "provenance": [],
      "collapsed_sections": []
    },
    "kernelspec": {
      "name": "python3",
      "display_name": "Python 3"
    }
  },
  "cells": [
    {
      "cell_type": "markdown",
      "metadata": {
        "id": "haaRYwp2mTAe"
      },
      "source": [
        "Husam Muneeb\r\n",
        "Yudai Shinkawa\r\n",
        "Tommy Schmidt"
      ]
    },
    {
      "cell_type": "code",
      "metadata": {
        "id": "uP4VN7-hkzA0"
      },
      "source": [
        "import math\r\n",
        "import pandas_datareader as pdr\r\n",
        "import pandas as pd\r\n",
        "import numpy\r\n",
        "import numpy as np\r\n",
        "import matplotlib.pyplot as plt\r\n",
        "from sklearn.preprocessing import MinMaxScaler\r\n",
        "from sklearn.metrics import mean_squared_error\r\n",
        "import tensorflow\r\n",
        "from tensorflow.keras.models import Sequential\r\n",
        "from tensorflow.keras.layers import Dense\r\n",
        "from tensorflow.keras.layers import LSTM\r\n",
        "from numpy import array"
      ],
      "execution_count": null,
      "outputs": []
    },
    {
      "cell_type": "code",
      "metadata": {
        "colab": {
          "base_uri": "https://localhost:8080/",
          "height": 235
        },
        "id": "0N7ctcnUk4yJ",
        "outputId": "48132853-6115-4076-eef5-6be4421bfce4"
      },
      "source": [
        "# Get data from 2015 to present (In this case, Apple)\r\n",
        "df = pdr.DataReader('AAPL', data_source='yahoo', start='2015-1-01', end='2020-12-09')\r\n",
        "#df.to_csv('APPL.csv')\r\n",
        "#df = pd.read_csv('APPL.csv')\r\n",
        "# Get the head (beginning) data points and tall (ending)\r\n",
        "df.head()\r\n",
        "#df.tail()"
      ],
      "execution_count": null,
      "outputs": [
        {
          "output_type": "execute_result",
          "data": {
            "text/html": [
              "<div>\n",
              "<style scoped>\n",
              "    .dataframe tbody tr th:only-of-type {\n",
              "        vertical-align: middle;\n",
              "    }\n",
              "\n",
              "    .dataframe tbody tr th {\n",
              "        vertical-align: top;\n",
              "    }\n",
              "\n",
              "    .dataframe thead th {\n",
              "        text-align: right;\n",
              "    }\n",
              "</style>\n",
              "<table border=\"1\" class=\"dataframe\">\n",
              "  <thead>\n",
              "    <tr style=\"text-align: right;\">\n",
              "      <th></th>\n",
              "      <th>High</th>\n",
              "      <th>Low</th>\n",
              "      <th>Open</th>\n",
              "      <th>Close</th>\n",
              "      <th>Volume</th>\n",
              "      <th>Adj Close</th>\n",
              "    </tr>\n",
              "    <tr>\n",
              "      <th>Date</th>\n",
              "      <th></th>\n",
              "      <th></th>\n",
              "      <th></th>\n",
              "      <th></th>\n",
              "      <th></th>\n",
              "      <th></th>\n",
              "    </tr>\n",
              "  </thead>\n",
              "  <tbody>\n",
              "    <tr>\n",
              "      <th>2015-01-02</th>\n",
              "      <td>27.860001</td>\n",
              "      <td>26.837500</td>\n",
              "      <td>27.847500</td>\n",
              "      <td>27.332500</td>\n",
              "      <td>212818400.0</td>\n",
              "      <td>24.696352</td>\n",
              "    </tr>\n",
              "    <tr>\n",
              "      <th>2015-01-05</th>\n",
              "      <td>27.162500</td>\n",
              "      <td>26.352501</td>\n",
              "      <td>27.072500</td>\n",
              "      <td>26.562500</td>\n",
              "      <td>257142000.0</td>\n",
              "      <td>24.000614</td>\n",
              "    </tr>\n",
              "    <tr>\n",
              "      <th>2015-01-06</th>\n",
              "      <td>26.857500</td>\n",
              "      <td>26.157499</td>\n",
              "      <td>26.635000</td>\n",
              "      <td>26.565001</td>\n",
              "      <td>263188400.0</td>\n",
              "      <td>24.002876</td>\n",
              "    </tr>\n",
              "    <tr>\n",
              "      <th>2015-01-07</th>\n",
              "      <td>27.049999</td>\n",
              "      <td>26.674999</td>\n",
              "      <td>26.799999</td>\n",
              "      <td>26.937500</td>\n",
              "      <td>160423600.0</td>\n",
              "      <td>24.339447</td>\n",
              "    </tr>\n",
              "    <tr>\n",
              "      <th>2015-01-08</th>\n",
              "      <td>28.037500</td>\n",
              "      <td>27.174999</td>\n",
              "      <td>27.307501</td>\n",
              "      <td>27.972500</td>\n",
              "      <td>237458000.0</td>\n",
              "      <td>25.274624</td>\n",
              "    </tr>\n",
              "  </tbody>\n",
              "</table>\n",
              "</div>"
            ],
            "text/plain": [
              "                 High        Low       Open      Close       Volume  Adj Close\n",
              "Date                                                                          \n",
              "2015-01-02  27.860001  26.837500  27.847500  27.332500  212818400.0  24.696352\n",
              "2015-01-05  27.162500  26.352501  27.072500  26.562500  257142000.0  24.000614\n",
              "2015-01-06  26.857500  26.157499  26.635000  26.565001  263188400.0  24.002876\n",
              "2015-01-07  27.049999  26.674999  26.799999  26.937500  160423600.0  24.339447\n",
              "2015-01-08  28.037500  27.174999  27.307501  27.972500  237458000.0  25.274624"
            ]
          },
          "metadata": {
            "tags": []
          },
          "execution_count": 2
        }
      ]
    },
    {
      "cell_type": "code",
      "metadata": {
        "colab": {
          "base_uri": "https://localhost:8080/"
        },
        "id": "jcLLrCvAnYfO",
        "outputId": "579c1cc9-f3bd-4c45-9004-805eaea7c4f3"
      },
      "source": [
        "df1 = df.reset_index()['Close']\r\n",
        "df1"
      ],
      "execution_count": null,
      "outputs": [
        {
          "output_type": "execute_result",
          "data": {
            "text/plain": [
              "0        27.332500\n",
              "1        26.562500\n",
              "2        26.565001\n",
              "3        26.937500\n",
              "4        27.972500\n",
              "           ...    \n",
              "1491    122.940002\n",
              "1492    122.250000\n",
              "1493    123.750000\n",
              "1494    124.379997\n",
              "1495    121.779999\n",
              "Name: Close, Length: 1496, dtype: float64"
            ]
          },
          "metadata": {
            "tags": []
          },
          "execution_count": 3
        }
      ]
    },
    {
      "cell_type": "code",
      "metadata": {
        "colab": {
          "base_uri": "https://localhost:8080/",
          "height": 282
        },
        "id": "06G96kpLlg4I",
        "outputId": "cf87a78c-83ed-47c7-9841-549a198453da"
      },
      "source": [
        "# Shows the stock price from 2015 to 2020 (depending on where you want it to start.)\r\n",
        "plt.plot(df1)"
      ],
      "execution_count": null,
      "outputs": [
        {
          "output_type": "execute_result",
          "data": {
            "text/plain": [
              "[<matplotlib.lines.Line2D at 0x7f9cbcc9d550>]"
            ]
          },
          "metadata": {
            "tags": []
          },
          "execution_count": 4
        },
        {
          "output_type": "display_data",
          "data": {
            "image/png": "[encoded data removed]",
            "text/plain": [
              "<Figure size 432x288 with 1 Axes>"
            ]
          },
          "metadata": {
            "tags": [],
            "needs_background": "light"
          }
        }
      ]
    },
    {
      "cell_type": "code",
      "metadata": {
        "colab": {
          "base_uri": "https://localhost:8080/"
        },
        "id": "zuNXoQ56oNFL",
        "outputId": "a6772613-43f7-4652-e99d-27f03527ca97"
      },
      "source": [
        "# We need to convert the data into an array to create a usuable data.\r\n",
        "# The stock data will reshape scale to fit from (0, 1)\r\n",
        "scaler = MinMaxScaler(feature_range = (0,1))\r\n",
        "df1 = scaler.fit_transform(np.array(df1).reshape(-1, 1))\r\n",
        "df1"
      ],
      "execution_count": null,
      "outputs": [
        {
          "output_type": "execute_result",
          "data": {
            "text/plain": [
              "array([[0.04254224],\n",
              "       [0.03564229],\n",
              "       [0.0356647 ],\n",
              "       ...,\n",
              "       [0.90653709],\n",
              "       [0.91218248],\n",
              "       [0.88888396]])"
            ]
          },
          "metadata": {
            "tags": []
          },
          "execution_count": 5
        }
      ]
    },
    {
      "cell_type": "code",
      "metadata": {
        "id": "tRMKH0aBogIf"
      },
      "source": [
        "# We want to split the data set and \"train\" them.\r\n",
        "# Ex. The data from day 2 is dependent on day 1 and day 3 is dependent on day 2, etc. \r\n",
        "training_size = int(len(df1) * 0.65)\r\n",
        "test_size = len(df1) - training_size\r\n",
        "# Get the data from index 0 to end of index from df1 for train_data and anything after should go into test_data\r\n",
        "train_data,test_data = df1[0:training_size,:], df1[training_size:len(df1), :1]\r\n",
        "#training_size, test_size\r\n",
        "#train_data"
      ],
      "execution_count": null,
      "outputs": []
    },
    {
      "cell_type": "code",
      "metadata": {
        "id": "c77UZ_WcpSvq"
      },
      "source": [
        "#len(train_data), len(test_data)"
      ],
      "execution_count": null,
      "outputs": []
    },
    {
      "cell_type": "code",
      "metadata": {
        "id": "KBJnixKlpCLq"
      },
      "source": [
        "# Convert the array into a dataset matrix.\r\n",
        "def data_matrix(dataset, time_shift = 1):\r\n",
        "\tx_data, y_data = [], []\r\n",
        "\tfor i in range(len(dataset) - time_shift - 1):\r\n",
        "\t\ta = dataset[i:(i + time_shift), 0]   # Whatever the time_shift is, x will have (time_shift - 1) values and y will have the value at time_shift\r\n",
        "\t\tx_data.append(a)\r\n",
        "\t\ty_data.append(dataset[i + time_shift, 0])\r\n",
        "\treturn numpy.array(x_data), numpy.array(y_data)"
      ],
      "execution_count": null,
      "outputs": []
    },
    {
      "cell_type": "code",
      "metadata": {
        "colab": {
          "base_uri": "https://localhost:8080/"
        },
        "id": "ALFGwsk3qsT4",
        "outputId": "b1e3fe27-20f8-4d9f-ea9b-cf054a055dc4"
      },
      "source": [
        "# Reshape each data point and shift by 1: x = t, t + 1, t + 2, t + 3...\r\n",
        "time_shift = 100\r\n",
        "x_train, y_train = data_matrix(train_data, time_shift)\r\n",
        "x_test, y_test = data_matrix(test_data, time_shift)\r\n",
        "print(x_train.shape), print(y_train.shape)\r\n",
        "print(x_test.shape), print(y_test.shape)"
      ],
      "execution_count": null,
      "outputs": [
        {
          "output_type": "stream",
          "text": [
            "(871, 100)\n",
            "(871,)\n",
            "(423, 100)\n",
            "(423,)\n"
          ],
          "name": "stdout"
        },
        {
          "output_type": "execute_result",
          "data": {
            "text/plain": [
              "(None, None)"
            ]
          },
          "metadata": {
            "tags": []
          },
          "execution_count": 9
        }
      ]
    },
    {
      "cell_type": "code",
      "metadata": {
        "id": "xI-8jq6QrAgw"
      },
      "source": [
        "# This will reshape the inputs since it is required for the LSTM model\r\n",
        "x_train = x_train.reshape(x_train.shape[0], x_train.shape[1] , 1)\r\n",
        "x_test = x_test.reshape(x_test.shape[0], x_test.shape[1] , 1)"
      ],
      "execution_count": null,
      "outputs": []
    },
    {
      "cell_type": "code",
      "metadata": {
        "id": "fYDsblGUaS6v"
      },
      "source": [
        ""
      ],
      "execution_count": null,
      "outputs": []
    },
    {
      "cell_type": "code",
      "metadata": {
        "colab": {
          "base_uri": "https://localhost:8080/"
        },
        "id": "tPRZLuP8rwQu",
        "outputId": "8615daef-46c8-4f19-f0bf-bb4846e003e9"
      },
      "source": [
        "# This creates the LSTM model\r\n",
        "model = Sequential()\r\n",
        "model.add(LSTM(50,return_sequences=True,input_shape=(100,1)))\r\n",
        "model.add(LSTM(50,return_sequences=True))\r\n",
        "model.add(LSTM(50))\r\n",
        "model.add(Dense(1))\r\n",
        "model.compile(loss='mean_squared_error', optimizer='adam')\r\n",
        "\r\n",
        "model.fit(x_train, y_train, validation_data = (x_test ,y_test), epochs=100, batch_size=64, verbose=1)"
      ],
      "execution_count": null,
      "outputs": [
        {
          "output_type": "stream",
          "text": [
            "Epoch 1/100\n",
            "14/14 [==============================] - 3s 224ms/step - loss: 0.0062 - val_loss: 0.0622\n",
            "Epoch 2/100\n",
            "14/14 [==============================] - 2s 157ms/step - loss: 9.3748e-04 - val_loss: 0.0025\n",
            "Epoch 3/100\n",
            "14/14 [==============================] - 2s 157ms/step - loss: 3.0086e-04 - val_loss: 0.0046\n",
            "Epoch 4/100\n",
            "14/14 [==============================] - 2s 156ms/step - loss: 2.1186e-04 - val_loss: 0.0021\n",
            "Epoch 5/100\n",
            "14/14 [==============================] - 2s 159ms/step - loss: 2.0222e-04 - val_loss: 0.0027\n",
            "Epoch 6/100\n",
            "14/14 [==============================] - 2s 156ms/step - loss: 1.9151e-04 - val_loss: 0.0021\n",
            "Epoch 7/100\n",
            "14/14 [==============================] - 2s 160ms/step - loss: 1.8132e-04 - val_loss: 0.0029\n",
            "Epoch 8/100\n",
            "14/14 [==============================] - 2s 160ms/step - loss: 1.8310e-04 - val_loss: 0.0025\n",
            "Epoch 9/100\n",
            "14/14 [==============================] - 2s 159ms/step - loss: 1.7824e-04 - val_loss: 0.0038\n",
            "Epoch 10/100\n",
            "14/14 [==============================] - 2s 160ms/step - loss: 1.7205e-04 - val_loss: 0.0034\n",
            "Epoch 11/100\n",
            "14/14 [==============================] - 2s 160ms/step - loss: 1.6822e-04 - val_loss: 0.0030\n",
            "Epoch 12/100\n",
            "14/14 [==============================] - 2s 157ms/step - loss: 1.6836e-04 - val_loss: 0.0036\n",
            "Epoch 13/100\n",
            "14/14 [==============================] - 2s 157ms/step - loss: 1.6242e-04 - val_loss: 0.0049\n",
            "Epoch 14/100\n",
            "14/14 [==============================] - 2s 159ms/step - loss: 1.5857e-04 - val_loss: 0.0025\n",
            "Epoch 15/100\n",
            "14/14 [==============================] - 2s 160ms/step - loss: 1.5554e-04 - val_loss: 0.0034\n",
            "Epoch 16/100\n",
            "14/14 [==============================] - 2s 161ms/step - loss: 1.5307e-04 - val_loss: 0.0036\n",
            "Epoch 17/100\n",
            "14/14 [==============================] - 2s 160ms/step - loss: 1.5334e-04 - val_loss: 0.0031\n",
            "Epoch 18/100\n",
            "14/14 [==============================] - 2s 158ms/step - loss: 1.4581e-04 - val_loss: 0.0026\n",
            "Epoch 19/100\n",
            "14/14 [==============================] - 2s 161ms/step - loss: 1.5618e-04 - val_loss: 0.0050\n",
            "Epoch 20/100\n",
            "14/14 [==============================] - 2s 161ms/step - loss: 1.4685e-04 - val_loss: 0.0039\n",
            "Epoch 21/100\n",
            "14/14 [==============================] - 2s 161ms/step - loss: 1.5281e-04 - val_loss: 0.0025\n",
            "Epoch 22/100\n",
            "14/14 [==============================] - 2s 160ms/step - loss: 1.4889e-04 - val_loss: 0.0028\n",
            "Epoch 23/100\n",
            "14/14 [==============================] - 2s 161ms/step - loss: 1.3351e-04 - val_loss: 0.0031\n",
            "Epoch 24/100\n",
            "14/14 [==============================] - 2s 162ms/step - loss: 1.2914e-04 - val_loss: 0.0030\n",
            "Epoch 25/100\n",
            "14/14 [==============================] - 2s 160ms/step - loss: 1.3082e-04 - val_loss: 0.0028\n",
            "Epoch 26/100\n",
            "14/14 [==============================] - 2s 160ms/step - loss: 1.2848e-04 - val_loss: 0.0034\n",
            "Epoch 27/100\n",
            "14/14 [==============================] - 2s 160ms/step - loss: 1.2712e-04 - val_loss: 0.0042\n",
            "Epoch 28/100\n",
            "14/14 [==============================] - 2s 162ms/step - loss: 1.2061e-04 - val_loss: 0.0026\n",
            "Epoch 29/100\n",
            "14/14 [==============================] - 2s 160ms/step - loss: 1.1901e-04 - val_loss: 0.0030\n",
            "Epoch 30/100\n",
            "14/14 [==============================] - 2s 159ms/step - loss: 1.1825e-04 - val_loss: 0.0023\n",
            "Epoch 31/100\n",
            "14/14 [==============================] - 2s 160ms/step - loss: 1.2419e-04 - val_loss: 0.0032\n",
            "Epoch 32/100\n",
            "14/14 [==============================] - 2s 161ms/step - loss: 1.1376e-04 - val_loss: 0.0029\n",
            "Epoch 33/100\n",
            "14/14 [==============================] - 2s 162ms/step - loss: 1.1216e-04 - val_loss: 0.0029\n",
            "Epoch 34/100\n",
            "14/14 [==============================] - 2s 162ms/step - loss: 1.2233e-04 - val_loss: 0.0049\n",
            "Epoch 35/100\n",
            "14/14 [==============================] - 2s 161ms/step - loss: 1.3531e-04 - val_loss: 0.0025\n",
            "Epoch 36/100\n",
            "14/14 [==============================] - 2s 160ms/step - loss: 1.1703e-04 - val_loss: 0.0026\n",
            "Epoch 37/100\n",
            "14/14 [==============================] - 2s 159ms/step - loss: 1.0946e-04 - val_loss: 0.0035\n",
            "Epoch 38/100\n",
            "14/14 [==============================] - 2s 159ms/step - loss: 1.2765e-04 - val_loss: 0.0019\n",
            "Epoch 39/100\n",
            "14/14 [==============================] - 2s 160ms/step - loss: 1.1422e-04 - val_loss: 0.0016\n",
            "Epoch 40/100\n",
            "14/14 [==============================] - 2s 158ms/step - loss: 1.0349e-04 - val_loss: 0.0026\n",
            "Epoch 41/100\n",
            "14/14 [==============================] - 2s 161ms/step - loss: 1.0088e-04 - val_loss: 0.0022\n",
            "Epoch 42/100\n",
            "14/14 [==============================] - 2s 160ms/step - loss: 9.7559e-05 - val_loss: 0.0023\n",
            "Epoch 43/100\n",
            "14/14 [==============================] - 2s 159ms/step - loss: 9.8656e-05 - val_loss: 0.0017\n",
            "Epoch 44/100\n",
            "14/14 [==============================] - 2s 160ms/step - loss: 1.0120e-04 - val_loss: 0.0018\n",
            "Epoch 45/100\n",
            "14/14 [==============================] - 2s 162ms/step - loss: 9.4723e-05 - val_loss: 0.0016\n",
            "Epoch 46/100\n",
            "14/14 [==============================] - 2s 161ms/step - loss: 1.0453e-04 - val_loss: 0.0011\n",
            "Epoch 47/100\n",
            "14/14 [==============================] - 2s 162ms/step - loss: 1.2848e-04 - val_loss: 0.0015\n",
            "Epoch 48/100\n",
            "14/14 [==============================] - 2s 160ms/step - loss: 9.5387e-05 - val_loss: 0.0014\n",
            "Epoch 49/100\n",
            "14/14 [==============================] - 2s 161ms/step - loss: 9.2870e-05 - val_loss: 0.0019\n",
            "Epoch 50/100\n",
            "14/14 [==============================] - 2s 163ms/step - loss: 8.8831e-05 - val_loss: 0.0023\n",
            "Epoch 51/100\n",
            "14/14 [==============================] - 2s 161ms/step - loss: 8.6693e-05 - val_loss: 0.0026\n",
            "Epoch 52/100\n",
            "14/14 [==============================] - 2s 159ms/step - loss: 9.9825e-05 - val_loss: 0.0022\n",
            "Epoch 53/100\n",
            "14/14 [==============================] - 2s 158ms/step - loss: 9.0638e-05 - val_loss: 0.0017\n",
            "Epoch 54/100\n",
            "14/14 [==============================] - 2s 169ms/step - loss: 8.7762e-05 - val_loss: 0.0017\n",
            "Epoch 55/100\n",
            "14/14 [==============================] - 2s 169ms/step - loss: 8.2500e-05 - val_loss: 0.0018\n",
            "Epoch 56/100\n",
            "14/14 [==============================] - 2s 172ms/step - loss: 7.9876e-05 - val_loss: 0.0018\n",
            "Epoch 57/100\n",
            "14/14 [==============================] - 2s 171ms/step - loss: 7.7633e-05 - val_loss: 0.0019\n",
            "Epoch 58/100\n",
            "14/14 [==============================] - 2s 162ms/step - loss: 7.5447e-05 - val_loss: 0.0014\n",
            "Epoch 59/100\n",
            "14/14 [==============================] - 2s 158ms/step - loss: 7.8730e-05 - val_loss: 0.0014\n",
            "Epoch 60/100\n",
            "14/14 [==============================] - 2s 160ms/step - loss: 7.7740e-05 - val_loss: 0.0014\n",
            "Epoch 61/100\n",
            "14/14 [==============================] - 2s 160ms/step - loss: 7.6541e-05 - val_loss: 0.0017\n",
            "Epoch 62/100\n",
            "14/14 [==============================] - 2s 161ms/step - loss: 8.3874e-05 - val_loss: 0.0016\n",
            "Epoch 63/100\n",
            "14/14 [==============================] - 2s 160ms/step - loss: 7.3384e-05 - val_loss: 0.0014\n",
            "Epoch 64/100\n",
            "14/14 [==============================] - 2s 160ms/step - loss: 6.9010e-05 - val_loss: 0.0014\n",
            "Epoch 65/100\n",
            "14/14 [==============================] - 2s 162ms/step - loss: 6.8312e-05 - val_loss: 0.0011\n",
            "Epoch 66/100\n",
            "14/14 [==============================] - 2s 160ms/step - loss: 6.6020e-05 - val_loss: 0.0013\n",
            "Epoch 67/100\n",
            "14/14 [==============================] - 2s 162ms/step - loss: 6.8000e-05 - val_loss: 0.0011\n",
            "Epoch 68/100\n",
            "14/14 [==============================] - 2s 162ms/step - loss: 6.8749e-05 - val_loss: 0.0012\n",
            "Epoch 69/100\n",
            "14/14 [==============================] - 2s 159ms/step - loss: 6.3692e-05 - val_loss: 0.0021\n",
            "Epoch 70/100\n",
            "14/14 [==============================] - 2s 161ms/step - loss: 7.0909e-05 - val_loss: 0.0032\n",
            "Epoch 71/100\n",
            "14/14 [==============================] - 2s 159ms/step - loss: 8.5746e-05 - val_loss: 0.0027\n",
            "Epoch 72/100\n",
            "14/14 [==============================] - 2s 161ms/step - loss: 7.9670e-05 - val_loss: 0.0018\n",
            "Epoch 73/100\n",
            "14/14 [==============================] - 2s 161ms/step - loss: 6.4721e-05 - val_loss: 0.0017\n",
            "Epoch 74/100\n",
            "14/14 [==============================] - 2s 163ms/step - loss: 6.8711e-05 - val_loss: 0.0013\n",
            "Epoch 75/100\n",
            "14/14 [==============================] - 2s 162ms/step - loss: 6.5003e-05 - val_loss: 0.0013\n",
            "Epoch 76/100\n",
            "14/14 [==============================] - 2s 160ms/step - loss: 7.1124e-05 - val_loss: 8.2904e-04\n",
            "Epoch 77/100\n",
            "14/14 [==============================] - 2s 160ms/step - loss: 7.8123e-05 - val_loss: 6.8392e-04\n",
            "Epoch 78/100\n",
            "14/14 [==============================] - 2s 162ms/step - loss: 6.0363e-05 - val_loss: 0.0010\n",
            "Epoch 79/100\n",
            "14/14 [==============================] - 2s 162ms/step - loss: 5.4689e-05 - val_loss: 0.0011\n",
            "Epoch 80/100\n",
            "14/14 [==============================] - 2s 162ms/step - loss: 5.6860e-05 - val_loss: 0.0011\n",
            "Epoch 81/100\n",
            "14/14 [==============================] - 2s 159ms/step - loss: 5.7771e-05 - val_loss: 0.0014\n",
            "Epoch 82/100\n",
            "14/14 [==============================] - 2s 159ms/step - loss: 5.6990e-05 - val_loss: 8.8358e-04\n",
            "Epoch 83/100\n",
            "14/14 [==============================] - 2s 159ms/step - loss: 6.8961e-05 - val_loss: 8.8409e-04\n",
            "Epoch 84/100\n",
            "14/14 [==============================] - 2s 160ms/step - loss: 6.5136e-05 - val_loss: 7.4327e-04\n",
            "Epoch 85/100\n",
            "14/14 [==============================] - 2s 159ms/step - loss: 5.4781e-05 - val_loss: 0.0013\n",
            "Epoch 86/100\n",
            "14/14 [==============================] - 2s 165ms/step - loss: 5.1885e-05 - val_loss: 6.1071e-04\n",
            "Epoch 87/100\n",
            "14/14 [==============================] - 2s 170ms/step - loss: 5.5772e-05 - val_loss: 5.7622e-04\n",
            "Epoch 88/100\n",
            "14/14 [==============================] - 2s 169ms/step - loss: 5.9362e-05 - val_loss: 8.2756e-04\n",
            "Epoch 89/100\n",
            "14/14 [==============================] - 2s 160ms/step - loss: 5.0789e-05 - val_loss: 6.7941e-04\n",
            "Epoch 90/100\n",
            "14/14 [==============================] - 2s 160ms/step - loss: 5.4261e-05 - val_loss: 7.3806e-04\n",
            "Epoch 91/100\n",
            "14/14 [==============================] - 2s 160ms/step - loss: 5.4607e-05 - val_loss: 6.0828e-04\n",
            "Epoch 92/100\n",
            "14/14 [==============================] - 2s 160ms/step - loss: 5.7921e-05 - val_loss: 7.3695e-04\n",
            "Epoch 93/100\n",
            "14/14 [==============================] - 2s 159ms/step - loss: 4.8340e-05 - val_loss: 9.1022e-04\n",
            "Epoch 94/100\n",
            "14/14 [==============================] - 2s 162ms/step - loss: 4.7623e-05 - val_loss: 6.6710e-04\n",
            "Epoch 95/100\n",
            "14/14 [==============================] - 2s 163ms/step - loss: 5.5401e-05 - val_loss: 7.6054e-04\n",
            "Epoch 96/100\n",
            "14/14 [==============================] - 2s 159ms/step - loss: 4.8616e-05 - val_loss: 6.2576e-04\n",
            "Epoch 97/100\n",
            "14/14 [==============================] - 2s 162ms/step - loss: 4.9434e-05 - val_loss: 8.3436e-04\n",
            "Epoch 98/100\n",
            "14/14 [==============================] - 2s 161ms/step - loss: 4.6732e-05 - val_loss: 0.0013\n",
            "Epoch 99/100\n",
            "14/14 [==============================] - 2s 159ms/step - loss: 4.8393e-05 - val_loss: 8.0592e-04\n",
            "Epoch 100/100\n",
            "14/14 [==============================] - 2s 160ms/step - loss: 5.5034e-05 - val_loss: 0.0013\n"
          ],
          "name": "stdout"
        },
        {
          "output_type": "execute_result",
          "data": {
            "text/plain": [
              "<tensorflow.python.keras.callbacks.History at 0x7f9cb4b3dd30>"
            ]
          },
          "metadata": {
            "tags": []
          },
          "execution_count": 11
        }
      ]
    },
    {
      "cell_type": "code",
      "metadata": {
        "id": "XMv5_z-Zt2tb"
      },
      "source": [
        "train_prediction = model.predict(x_train)\r\n",
        "test_prediction = model.predict(x_test)\r\n"
      ],
      "execution_count": null,
      "outputs": []
    },
    {
      "cell_type": "code",
      "metadata": {
        "id": "aytp17qlxYwE"
      },
      "source": [
        "train_prediction = scaler.inverse_transform(train_prediction)\r\n",
        "test_prediction = scaler.inverse_transform(test_prediction)"
      ],
      "execution_count": null,
      "outputs": []
    },
    {
      "cell_type": "code",
      "metadata": {
        "colab": {
          "base_uri": "https://localhost:8080/"
        },
        "id": "xoIZAL9JuDiw",
        "outputId": "f0562376-3a31-4093-cace-b3d68278c07e"
      },
      "source": [
        "# Calculates the RMSE \r\n",
        "math.sqrt(mean_squared_error(y_train, train_prediction))"
      ],
      "execution_count": null,
      "outputs": [
        {
          "output_type": "execute_result",
          "data": {
            "text/plain": [
              "35.97636288591176"
            ]
          },
          "metadata": {
            "tags": []
          },
          "execution_count": 14
        }
      ]
    },
    {
      "cell_type": "code",
      "metadata": {
        "colab": {
          "base_uri": "https://localhost:8080/"
        },
        "id": "krtNQSFfvSw6",
        "outputId": "a698029a-f5e6-484b-9d30-c467c2ee985f"
      },
      "source": [
        "# RMSE for test data.\r\n",
        "math.sqrt(mean_squared_error(y_test, test_prediction))"
      ],
      "execution_count": null,
      "outputs": [
        {
          "output_type": "execute_result",
          "data": {
            "text/plain": [
              "76.74064276554729"
            ]
          },
          "metadata": {
            "tags": []
          },
          "execution_count": 15
        }
      ]
    },
    {
      "cell_type": "code",
      "metadata": {
        "colab": {
          "base_uri": "https://localhost:8080/",
          "height": 265
        },
        "id": "YxuE8gZJxieO",
        "outputId": "3daaa171-cbc5-4323-c415-f8701ae09270"
      },
      "source": [
        "# Plotting the graph\r\n",
        "# shift train predictions for plots\r\n",
        "look_back = 100\r\n",
        "trainPredictionPlot = numpy.empty_like(df1)\r\n",
        "trainPredictionPlot[:, :] = np.nan\r\n",
        "trainPredictionPlot[look_back:len(train_prediction)+look_back, :] = train_prediction\r\n",
        "\r\n",
        "# Shift the test predictions for plots\r\n",
        "testPredictionPlot = numpy.empty_like(df1)\r\n",
        "testPredictionPlot[:, :] = numpy.nan\r\n",
        "testPredictionPlot[len(train_prediction)+(look_back*2) + 1:len(df1) -1, :] = test_prediction\r\n",
        "\r\n",
        "# Plot the base graph, testing \r\n",
        "plt.plot(scaler.inverse_transform(df1))\r\n",
        "plt.plot(trainPredictionPlot)\r\n",
        "plt.plot(testPredictionPlot) \r\n",
        "plt.show()\r\n",
        "\r\n",
        "# Green color is the test data. \r\n",
        "# Blue color is the entire graph\r\n",
        "# Orange/brown color is the training data."
      ],
      "execution_count": null,
      "outputs": [
        {
          "output_type": "display_data",
          "data": {
            "image/png": "[encoded data removed]",
            "text/plain": [
              "<Figure size 432x288 with 1 Axes>"
            ]
          },
          "metadata": {
            "tags": [],
            "needs_background": "light"
          }
        }
      ]
    },
    {
      "cell_type": "code",
      "metadata": {
        "colab": {
          "base_uri": "https://localhost:8080/"
        },
        "id": "0jJ7Yp_Iyyt0",
        "outputId": "fc9c77d4-38af-4136-961d-7530155e0010"
      },
      "source": [
        "# If we want to get the last 100 data points, subtract the len(test_data) by 100 and you want to change it, then subtract by x amount.\r\n",
        "x_input=test_data[424:].reshape(1,-1)\r\n",
        "x_input.shape"
      ],
      "execution_count": null,
      "outputs": [
        {
          "output_type": "execute_result",
          "data": {
            "text/plain": [
              "(1, 100)"
            ]
          },
          "metadata": {
            "tags": []
          },
          "execution_count": 60
        }
      ]
    },
    {
      "cell_type": "code",
      "metadata": {
        "id": "u319UpUKxvx0",
        "colab": {
          "base_uri": "https://localhost:8080/"
        },
        "outputId": "53082bf5-01bf-4f05-f77b-223c7be9e54f"
      },
      "source": [
        "len(test_data)"
      ],
      "execution_count": null,
      "outputs": [
        {
          "output_type": "execute_result",
          "data": {
            "text/plain": [
              "524"
            ]
          },
          "metadata": {
            "tags": []
          },
          "execution_count": 50
        }
      ]
    },
    {
      "cell_type": "code",
      "metadata": {
        "colab": {
          "base_uri": "https://localhost:8080/"
        },
        "id": "IHtOOce8am5X",
        "outputId": "eb7286a1-d586-4702-879b-8509737d8c91"
      },
      "source": [
        "# I want to convert the numbers into the list.\r\n",
        "temp_input=list(x_input)\r\n",
        "temp_input=temp_input[0].tolist()\r\n",
        "temp_input"
      ],
      "execution_count": null,
      "outputs": [
        {
          "output_type": "execute_result",
          "data": {
            "text/plain": [
              "[0.6668309977063617,\n",
              " 0.6692728553175609,\n",
              " 0.629598155572658,\n",
              " 0.6275371011334604,\n",
              " 0.6472064395525556,\n",
              " 0.6332497640148387,\n",
              " 0.6492674939917532,\n",
              " 0.6595726294541068,\n",
              " 0.7498096496891122,\n",
              " 0.7738026423638129,\n",
              " 0.7803217602213007,\n",
              " 0.7838837397660857,\n",
              " 0.8182938527497715,\n",
              " 0.793292791354934,\n",
              " 0.8077647475941546,\n",
              " 0.7777230691313635,\n",
              " 0.8102962341027494,\n",
              " 0.8282181850401235,\n",
              " 0.827299676850565,\n",
              " 0.8246113568632322,\n",
              " 0.8331691048438642,\n",
              " 0.8344684162054242,\n",
              " 0.8574757644760412,\n",
              " 0.9120929208963794,\n",
              " 0.9254223308859609,\n",
              " 0.9161701127758507,\n",
              " 0.9313813877766558,\n",
              " 0.9178279397269936,\n",
              " 0.9160133476639299,\n",
              " 0.9539405915602942,\n",
              " 1.0,\n",
              " 0.975088499135741,\n",
              " 0.8808190672865533,\n",
              " 0.8815359617320843,\n",
              " 0.8085936268863175,\n",
              " 0.848918016495409,\n",
              " 0.8145974640423016,\n",
              " 0.8012456297366669,\n",
              " 0.8313545127808005,\n",
              " 0.8329674910998369,\n",
              " 0.802410531935542,\n",
              " 0.7863703776425741,\n",
              " 0.7550069635021696,\n",
              " 0.7840405732448239,\n",
              " 0.7995430225202348,\n",
              " 0.7575160940615284,\n",
              " 0.7673731534037207,\n",
              " 0.8037546919292083,\n",
              " 0.8277701089199624,\n",
              " 0.8199740356501505,\n",
              " 0.8353869243949829,\n",
              " 0.8441687104356957,\n",
              " 0.810385794633328,\n",
              " 0.8415700193457584,\n",
              " 0.811640394096416,\n",
              " 0.8288454505882589,\n",
              " 0.8278597378173579,\n",
              " 0.8457816887547319,\n",
              " 0.9123617392217492,\n",
              " 0.8827904928283551,\n",
              " 0.883597016171282,\n",
              " 0.8792957178649127,\n",
              " 0.8641516474454499,\n",
              " 0.8369103421834406,\n",
              " 0.8506206237118411,\n",
              " 0.8448856048812267,\n",
              " 0.8348492877442432,\n",
              " 0.8284870033654933,\n",
              " 0.828576632262889,\n",
              " 0.8424661032192636,\n",
              " 0.7940768220149903,\n",
              " 0.830996065558035,\n",
              " 0.773108172234335,\n",
              " 0.7723016488914082,\n",
              " 0.7872665298828966,\n",
              " 0.8276804800225667,\n",
              " 0.8642412763428456,\n",
              " 0.8611945774995645,\n",
              " 0.839957041026722,\n",
              " 0.8368207132860449,\n",
              " 0.8683633168544237,\n",
              " 0.865854254661882,\n",
              " 0.8663023307820433,\n",
              " 0.8756217534734959,\n",
              " 0.8674672329809184,\n",
              " 0.8552803008741586,\n",
              " 0.8607465013794032,\n",
              " 0.8490972059233831,\n",
              " 0.8178234206803744,\n",
              " 0.8296519055643684,\n",
              " 0.8373583499367846,\n",
              " 0.8423764743218679,\n",
              " 0.8644205341376371,\n",
              " 0.8973072976996822,\n",
              " 0.900533254337755,\n",
              " 0.8992787232414842,\n",
              " 0.8930956282907087,\n",
              " 0.9065370914937391,\n",
              " 0.9121824814269578,\n",
              " 0.8888839588817351]"
            ]
          },
          "metadata": {
            "tags": []
          },
          "execution_count": 61
        }
      ]
    },
    {
      "cell_type": "code",
      "metadata": {
        "colab": {
          "base_uri": "https://localhost:8080/"
        },
        "id": "Gu8BXVhHas5h",
        "outputId": "f91f53c7-25ea-4934-da7e-9bf1eb4bc85f"
      },
      "source": [
        "# This will predict the stock price for the next 30 days.\r\n",
        "lst_output=[]\r\n",
        "n_steps = 100\r\n",
        "i = 0\r\n",
        "while(i < 30):\r\n",
        "    \r\n",
        "    # Once there are 101 inputs, we will shift one position to the right and reshaping until it goes through 30 loops or 30 days.\r\n",
        "    if(len(temp_input) > 100):\r\n",
        "        #print(temp_input)\r\n",
        "        x_input=np.array(temp_input[1:])\r\n",
        "        print(\"{} day input {}\".format(i, x_input))\r\n",
        "        x_input=x_input.reshape(1, -1)\r\n",
        "        x_input = x_input.reshape((1, n_steps, 1))\r\n",
        "        #print(x_input)\r\n",
        "        yhat = model.predict(x_input, verbose=0)\r\n",
        "        print(\"{} day output {}\".format(i, yhat))\r\n",
        "        temp_input.extend(yhat[0].tolist())\r\n",
        "        temp_input=temp_input[1:]\r\n",
        "        #print(temp_input)\r\n",
        "        lst_output.extend(yhat.tolist())\r\n",
        "        i += 1\r\n",
        "    # The 100 values in the list above are passed into the model and are starting the prediction.\r\n",
        "    # The yhat value is added into the final value and in the previous input which results in 101 inputs.\r\n",
        "    else:\r\n",
        "        x_input = x_input.reshape((1, n_steps,1))\r\n",
        "        yhat = model.predict(x_input, verbose=0)\r\n",
        "        print(yhat[0])\r\n",
        "        temp_input.extend(yhat[0].tolist())\r\n",
        "        print(len(temp_input))\r\n",
        "        lst_output.extend(yhat.tolist())\r\n",
        "        i += 1\r\n",
        "    \r\n",
        "\r\n",
        "print(lst_output)"
      ],
      "execution_count": null,
      "outputs": [
        {
          "output_type": "stream",
          "text": [
            "[0.8336103]\n",
            "101\n",
            "1 day input [0.66927286 0.62959816 0.6275371  0.64720644 0.63324976 0.64926749\n",
            " 0.65957263 0.74980965 0.77380264 0.78032176 0.78388374 0.81829385\n",
            " 0.79329279 0.80776475 0.77772307 0.81029623 0.82821819 0.82729968\n",
            " 0.82461136 0.8331691  0.83446842 0.85747576 0.91209292 0.92542233\n",
            " 0.91617011 0.93138139 0.91782794 0.91601335 0.95394059 1.\n",
            " 0.9750885  0.88081907 0.88153596 0.80859363 0.84891802 0.81459746\n",
            " 0.80124563 0.83135451 0.83296749 0.80241053 0.78637038 0.75500696\n",
            " 0.78404057 0.79954302 0.75751609 0.76737315 0.80375469 0.82777011\n",
            " 0.81997404 0.83538692 0.84416871 0.81038579 0.84157002 0.81164039\n",
            " 0.82884545 0.82785974 0.84578169 0.91236174 0.88279049 0.88359702\n",
            " 0.87929572 0.86415165 0.83691034 0.85062062 0.8448856  0.83484929\n",
            " 0.828487   0.82857663 0.8424661  0.79407682 0.83099607 0.77310817\n",
            " 0.77230165 0.78726653 0.82768048 0.86424128 0.86119458 0.83995704\n",
            " 0.83682071 0.86836332 0.86585425 0.86630233 0.87562175 0.86746723\n",
            " 0.8552803  0.8607465  0.84909721 0.81782342 0.82965191 0.83735835\n",
            " 0.84237647 0.86442053 0.8973073  0.90053325 0.89927872 0.89309563\n",
            " 0.90653709 0.91218248 0.88888396 0.8336103 ]\n",
            "1 day output [[0.80970824]]\n",
            "2 day input [0.62959816 0.6275371  0.64720644 0.63324976 0.64926749 0.65957263\n",
            " 0.74980965 0.77380264 0.78032176 0.78388374 0.81829385 0.79329279\n",
            " 0.80776475 0.77772307 0.81029623 0.82821819 0.82729968 0.82461136\n",
            " 0.8331691  0.83446842 0.85747576 0.91209292 0.92542233 0.91617011\n",
            " 0.93138139 0.91782794 0.91601335 0.95394059 1.         0.9750885\n",
            " 0.88081907 0.88153596 0.80859363 0.84891802 0.81459746 0.80124563\n",
            " 0.83135451 0.83296749 0.80241053 0.78637038 0.75500696 0.78404057\n",
            " 0.79954302 0.75751609 0.76737315 0.80375469 0.82777011 0.81997404\n",
            " 0.83538692 0.84416871 0.81038579 0.84157002 0.81164039 0.82884545\n",
            " 0.82785974 0.84578169 0.91236174 0.88279049 0.88359702 0.87929572\n",
            " 0.86415165 0.83691034 0.85062062 0.8448856  0.83484929 0.828487\n",
            " 0.82857663 0.8424661  0.79407682 0.83099607 0.77310817 0.77230165\n",
            " 0.78726653 0.82768048 0.86424128 0.86119458 0.83995704 0.83682071\n",
            " 0.86836332 0.86585425 0.86630233 0.87562175 0.86746723 0.8552803\n",
            " 0.8607465  0.84909721 0.81782342 0.82965191 0.83735835 0.84237647\n",
            " 0.86442053 0.8973073  0.90053325 0.89927872 0.89309563 0.90653709\n",
            " 0.91218248 0.88888396 0.8336103  0.80970824]\n",
            "2 day output [[0.7798891]]\n",
            "3 day input [0.6275371  0.64720644 0.63324976 0.64926749 0.65957263 0.74980965\n",
            " 0.77380264 0.78032176 0.78388374 0.81829385 0.79329279 0.80776475\n",
            " 0.77772307 0.81029623 0.82821819 0.82729968 0.82461136 0.8331691\n",
            " 0.83446842 0.85747576 0.91209292 0.92542233 0.91617011 0.93138139\n",
            " 0.91782794 0.91601335 0.95394059 1.         0.9750885  0.88081907\n",
            " 0.88153596 0.80859363 0.84891802 0.81459746 0.80124563 0.83135451\n",
            " 0.83296749 0.80241053 0.78637038 0.75500696 0.78404057 0.79954302\n",
            " 0.75751609 0.76737315 0.80375469 0.82777011 0.81997404 0.83538692\n",
            " 0.84416871 0.81038579 0.84157002 0.81164039 0.82884545 0.82785974\n",
            " 0.84578169 0.91236174 0.88279049 0.88359702 0.87929572 0.86415165\n",
            " 0.83691034 0.85062062 0.8448856  0.83484929 0.828487   0.82857663\n",
            " 0.8424661  0.79407682 0.83099607 0.77310817 0.77230165 0.78726653\n",
            " 0.82768048 0.86424128 0.86119458 0.83995704 0.83682071 0.86836332\n",
            " 0.86585425 0.86630233 0.87562175 0.86746723 0.8552803  0.8607465\n",
            " 0.84909721 0.81782342 0.82965191 0.83735835 0.84237647 0.86442053\n",
            " 0.8973073  0.90053325 0.89927872 0.89309563 0.90653709 0.91218248\n",
            " 0.88888396 0.8336103  0.80970824 0.77988911]\n",
            "3 day output [[0.7508396]]\n",
            "4 day input [0.64720644 0.63324976 0.64926749 0.65957263 0.74980965 0.77380264\n",
            " 0.78032176 0.78388374 0.81829385 0.79329279 0.80776475 0.77772307\n",
            " 0.81029623 0.82821819 0.82729968 0.82461136 0.8331691  0.83446842\n",
            " 0.85747576 0.91209292 0.92542233 0.91617011 0.93138139 0.91782794\n",
            " 0.91601335 0.95394059 1.         0.9750885  0.88081907 0.88153596\n",
            " 0.80859363 0.84891802 0.81459746 0.80124563 0.83135451 0.83296749\n",
            " 0.80241053 0.78637038 0.75500696 0.78404057 0.79954302 0.75751609\n",
            " 0.76737315 0.80375469 0.82777011 0.81997404 0.83538692 0.84416871\n",
            " 0.81038579 0.84157002 0.81164039 0.82884545 0.82785974 0.84578169\n",
            " 0.91236174 0.88279049 0.88359702 0.87929572 0.86415165 0.83691034\n",
            " 0.85062062 0.8448856  0.83484929 0.828487   0.82857663 0.8424661\n",
            " 0.79407682 0.83099607 0.77310817 0.77230165 0.78726653 0.82768048\n",
            " 0.86424128 0.86119458 0.83995704 0.83682071 0.86836332 0.86585425\n",
            " 0.86630233 0.87562175 0.86746723 0.8552803  0.8607465  0.84909721\n",
            " 0.81782342 0.82965191 0.83735835 0.84237647 0.86442053 0.8973073\n",
            " 0.90053325 0.89927872 0.89309563 0.90653709 0.91218248 0.88888396\n",
            " 0.8336103  0.80970824 0.77988911 0.75083959]\n",
            "4 day output [[0.72519743]]\n",
            "5 day input [0.63324976 0.64926749 0.65957263 0.74980965 0.77380264 0.78032176\n",
            " 0.78388374 0.81829385 0.79329279 0.80776475 0.77772307 0.81029623\n",
            " 0.82821819 0.82729968 0.82461136 0.8331691  0.83446842 0.85747576\n",
            " 0.91209292 0.92542233 0.91617011 0.93138139 0.91782794 0.91601335\n",
            " 0.95394059 1.         0.9750885  0.88081907 0.88153596 0.80859363\n",
            " 0.84891802 0.81459746 0.80124563 0.83135451 0.83296749 0.80241053\n",
            " 0.78637038 0.75500696 0.78404057 0.79954302 0.75751609 0.76737315\n",
            " 0.80375469 0.82777011 0.81997404 0.83538692 0.84416871 0.81038579\n",
            " 0.84157002 0.81164039 0.82884545 0.82785974 0.84578169 0.91236174\n",
            " 0.88279049 0.88359702 0.87929572 0.86415165 0.83691034 0.85062062\n",
            " 0.8448856  0.83484929 0.828487   0.82857663 0.8424661  0.79407682\n",
            " 0.83099607 0.77310817 0.77230165 0.78726653 0.82768048 0.86424128\n",
            " 0.86119458 0.83995704 0.83682071 0.86836332 0.86585425 0.86630233\n",
            " 0.87562175 0.86746723 0.8552803  0.8607465  0.84909721 0.81782342\n",
            " 0.82965191 0.83735835 0.84237647 0.86442053 0.8973073  0.90053325\n",
            " 0.89927872 0.89309563 0.90653709 0.91218248 0.88888396 0.8336103\n",
            " 0.80970824 0.77988911 0.75083959 0.72519743]\n",
            "5 day output [[0.70386237]]\n",
            "6 day input [0.64926749 0.65957263 0.74980965 0.77380264 0.78032176 0.78388374\n",
            " 0.81829385 0.79329279 0.80776475 0.77772307 0.81029623 0.82821819\n",
            " 0.82729968 0.82461136 0.8331691  0.83446842 0.85747576 0.91209292\n",
            " 0.92542233 0.91617011 0.93138139 0.91782794 0.91601335 0.95394059\n",
            " 1.         0.9750885  0.88081907 0.88153596 0.80859363 0.84891802\n",
            " 0.81459746 0.80124563 0.83135451 0.83296749 0.80241053 0.78637038\n",
            " 0.75500696 0.78404057 0.79954302 0.75751609 0.76737315 0.80375469\n",
            " 0.82777011 0.81997404 0.83538692 0.84416871 0.81038579 0.84157002\n",
            " 0.81164039 0.82884545 0.82785974 0.84578169 0.91236174 0.88279049\n",
            " 0.88359702 0.87929572 0.86415165 0.83691034 0.85062062 0.8448856\n",
            " 0.83484929 0.828487   0.82857663 0.8424661  0.79407682 0.83099607\n",
            " 0.77310817 0.77230165 0.78726653 0.82768048 0.86424128 0.86119458\n",
            " 0.83995704 0.83682071 0.86836332 0.86585425 0.86630233 0.87562175\n",
            " 0.86746723 0.8552803  0.8607465  0.84909721 0.81782342 0.82965191\n",
            " 0.83735835 0.84237647 0.86442053 0.8973073  0.90053325 0.89927872\n",
            " 0.89309563 0.90653709 0.91218248 0.88888396 0.8336103  0.80970824\n",
            " 0.77988911 0.75083959 0.72519743 0.70386237]\n",
            "6 day output [[0.6868841]]\n",
            "7 day input [0.65957263 0.74980965 0.77380264 0.78032176 0.78388374 0.81829385\n",
            " 0.79329279 0.80776475 0.77772307 0.81029623 0.82821819 0.82729968\n",
            " 0.82461136 0.8331691  0.83446842 0.85747576 0.91209292 0.92542233\n",
            " 0.91617011 0.93138139 0.91782794 0.91601335 0.95394059 1.\n",
            " 0.9750885  0.88081907 0.88153596 0.80859363 0.84891802 0.81459746\n",
            " 0.80124563 0.83135451 0.83296749 0.80241053 0.78637038 0.75500696\n",
            " 0.78404057 0.79954302 0.75751609 0.76737315 0.80375469 0.82777011\n",
            " 0.81997404 0.83538692 0.84416871 0.81038579 0.84157002 0.81164039\n",
            " 0.82884545 0.82785974 0.84578169 0.91236174 0.88279049 0.88359702\n",
            " 0.87929572 0.86415165 0.83691034 0.85062062 0.8448856  0.83484929\n",
            " 0.828487   0.82857663 0.8424661  0.79407682 0.83099607 0.77310817\n",
            " 0.77230165 0.78726653 0.82768048 0.86424128 0.86119458 0.83995704\n",
            " 0.83682071 0.86836332 0.86585425 0.86630233 0.87562175 0.86746723\n",
            " 0.8552803  0.8607465  0.84909721 0.81782342 0.82965191 0.83735835\n",
            " 0.84237647 0.86442053 0.8973073  0.90053325 0.89927872 0.89309563\n",
            " 0.90653709 0.91218248 0.88888396 0.8336103  0.80970824 0.77988911\n",
            " 0.75083959 0.72519743 0.70386237 0.68688411]\n",
            "7 day output [[0.6737745]]\n",
            "8 day input [0.74980965 0.77380264 0.78032176 0.78388374 0.81829385 0.79329279\n",
            " 0.80776475 0.77772307 0.81029623 0.82821819 0.82729968 0.82461136\n",
            " 0.8331691  0.83446842 0.85747576 0.91209292 0.92542233 0.91617011\n",
            " 0.93138139 0.91782794 0.91601335 0.95394059 1.         0.9750885\n",
            " 0.88081907 0.88153596 0.80859363 0.84891802 0.81459746 0.80124563\n",
            " 0.83135451 0.83296749 0.80241053 0.78637038 0.75500696 0.78404057\n",
            " 0.79954302 0.75751609 0.76737315 0.80375469 0.82777011 0.81997404\n",
            " 0.83538692 0.84416871 0.81038579 0.84157002 0.81164039 0.82884545\n",
            " 0.82785974 0.84578169 0.91236174 0.88279049 0.88359702 0.87929572\n",
            " 0.86415165 0.83691034 0.85062062 0.8448856  0.83484929 0.828487\n",
            " 0.82857663 0.8424661  0.79407682 0.83099607 0.77310817 0.77230165\n",
            " 0.78726653 0.82768048 0.86424128 0.86119458 0.83995704 0.83682071\n",
            " 0.86836332 0.86585425 0.86630233 0.87562175 0.86746723 0.8552803\n",
            " 0.8607465  0.84909721 0.81782342 0.82965191 0.83735835 0.84237647\n",
            " 0.86442053 0.8973073  0.90053325 0.89927872 0.89309563 0.90653709\n",
            " 0.91218248 0.88888396 0.8336103  0.80970824 0.77988911 0.75083959\n",
            " 0.72519743 0.70386237 0.68688411 0.67377448]\n",
            "8 day output [[0.6636961]]\n",
            "9 day input [0.77380264 0.78032176 0.78388374 0.81829385 0.79329279 0.80776475\n",
            " 0.77772307 0.81029623 0.82821819 0.82729968 0.82461136 0.8331691\n",
            " 0.83446842 0.85747576 0.91209292 0.92542233 0.91617011 0.93138139\n",
            " 0.91782794 0.91601335 0.95394059 1.         0.9750885  0.88081907\n",
            " 0.88153596 0.80859363 0.84891802 0.81459746 0.80124563 0.83135451\n",
            " 0.83296749 0.80241053 0.78637038 0.75500696 0.78404057 0.79954302\n",
            " 0.75751609 0.76737315 0.80375469 0.82777011 0.81997404 0.83538692\n",
            " 0.84416871 0.81038579 0.84157002 0.81164039 0.82884545 0.82785974\n",
            " 0.84578169 0.91236174 0.88279049 0.88359702 0.87929572 0.86415165\n",
            " 0.83691034 0.85062062 0.8448856  0.83484929 0.828487   0.82857663\n",
            " 0.8424661  0.79407682 0.83099607 0.77310817 0.77230165 0.78726653\n",
            " 0.82768048 0.86424128 0.86119458 0.83995704 0.83682071 0.86836332\n",
            " 0.86585425 0.86630233 0.87562175 0.86746723 0.8552803  0.8607465\n",
            " 0.84909721 0.81782342 0.82965191 0.83735835 0.84237647 0.86442053\n",
            " 0.8973073  0.90053325 0.89927872 0.89309563 0.90653709 0.91218248\n",
            " 0.88888396 0.8336103  0.80970824 0.77988911 0.75083959 0.72519743\n",
            " 0.70386237 0.68688411 0.67377448 0.66369611]\n",
            "9 day output [[0.6556442]]\n",
            "10 day input [0.78032176 0.78388374 0.81829385 0.79329279 0.80776475 0.77772307\n",
            " 0.81029623 0.82821819 0.82729968 0.82461136 0.8331691  0.83446842\n",
            " 0.85747576 0.91209292 0.92542233 0.91617011 0.93138139 0.91782794\n",
            " 0.91601335 0.95394059 1.         0.9750885  0.88081907 0.88153596\n",
            " 0.80859363 0.84891802 0.81459746 0.80124563 0.83135451 0.83296749\n",
            " 0.80241053 0.78637038 0.75500696 0.78404057 0.79954302 0.75751609\n",
            " 0.76737315 0.80375469 0.82777011 0.81997404 0.83538692 0.84416871\n",
            " 0.81038579 0.84157002 0.81164039 0.82884545 0.82785974 0.84578169\n",
            " 0.91236174 0.88279049 0.88359702 0.87929572 0.86415165 0.83691034\n",
            " 0.85062062 0.8448856  0.83484929 0.828487   0.82857663 0.8424661\n",
            " 0.79407682 0.83099607 0.77310817 0.77230165 0.78726653 0.82768048\n",
            " 0.86424128 0.86119458 0.83995704 0.83682071 0.86836332 0.86585425\n",
            " 0.86630233 0.87562175 0.86746723 0.8552803  0.8607465  0.84909721\n",
            " 0.81782342 0.82965191 0.83735835 0.84237647 0.86442053 0.8973073\n",
            " 0.90053325 0.89927872 0.89309563 0.90653709 0.91218248 0.88888396\n",
            " 0.8336103  0.80970824 0.77988911 0.75083959 0.72519743 0.70386237\n",
            " 0.68688411 0.67377448 0.66369611 0.65564418]\n",
            "10 day output [[0.64860785]]\n",
            "11 day input [0.78388374 0.81829385 0.79329279 0.80776475 0.77772307 0.81029623\n",
            " 0.82821819 0.82729968 0.82461136 0.8331691  0.83446842 0.85747576\n",
            " 0.91209292 0.92542233 0.91617011 0.93138139 0.91782794 0.91601335\n",
            " 0.95394059 1.         0.9750885  0.88081907 0.88153596 0.80859363\n",
            " 0.84891802 0.81459746 0.80124563 0.83135451 0.83296749 0.80241053\n",
            " 0.78637038 0.75500696 0.78404057 0.79954302 0.75751609 0.76737315\n",
            " 0.80375469 0.82777011 0.81997404 0.83538692 0.84416871 0.81038579\n",
            " 0.84157002 0.81164039 0.82884545 0.82785974 0.84578169 0.91236174\n",
            " 0.88279049 0.88359702 0.87929572 0.86415165 0.83691034 0.85062062\n",
            " 0.8448856  0.83484929 0.828487   0.82857663 0.8424661  0.79407682\n",
            " 0.83099607 0.77310817 0.77230165 0.78726653 0.82768048 0.86424128\n",
            " 0.86119458 0.83995704 0.83682071 0.86836332 0.86585425 0.86630233\n",
            " 0.87562175 0.86746723 0.8552803  0.8607465  0.84909721 0.81782342\n",
            " 0.82965191 0.83735835 0.84237647 0.86442053 0.8973073  0.90053325\n",
            " 0.89927872 0.89309563 0.90653709 0.91218248 0.88888396 0.8336103\n",
            " 0.80970824 0.77988911 0.75083959 0.72519743 0.70386237 0.68688411\n",
            " 0.67377448 0.66369611 0.65564418 0.64860785]\n",
            "11 day output [[0.64170367]]\n",
            "12 day input [0.81829385 0.79329279 0.80776475 0.77772307 0.81029623 0.82821819\n",
            " 0.82729968 0.82461136 0.8331691  0.83446842 0.85747576 0.91209292\n",
            " 0.92542233 0.91617011 0.93138139 0.91782794 0.91601335 0.95394059\n",
            " 1.         0.9750885  0.88081907 0.88153596 0.80859363 0.84891802\n",
            " 0.81459746 0.80124563 0.83135451 0.83296749 0.80241053 0.78637038\n",
            " 0.75500696 0.78404057 0.79954302 0.75751609 0.76737315 0.80375469\n",
            " 0.82777011 0.81997404 0.83538692 0.84416871 0.81038579 0.84157002\n",
            " 0.81164039 0.82884545 0.82785974 0.84578169 0.91236174 0.88279049\n",
            " 0.88359702 0.87929572 0.86415165 0.83691034 0.85062062 0.8448856\n",
            " 0.83484929 0.828487   0.82857663 0.8424661  0.79407682 0.83099607\n",
            " 0.77310817 0.77230165 0.78726653 0.82768048 0.86424128 0.86119458\n",
            " 0.83995704 0.83682071 0.86836332 0.86585425 0.86630233 0.87562175\n",
            " 0.86746723 0.8552803  0.8607465  0.84909721 0.81782342 0.82965191\n",
            " 0.83735835 0.84237647 0.86442053 0.8973073  0.90053325 0.89927872\n",
            " 0.89309563 0.90653709 0.91218248 0.88888396 0.8336103  0.80970824\n",
            " 0.77988911 0.75083959 0.72519743 0.70386237 0.68688411 0.67377448\n",
            " 0.66369611 0.65564418 0.64860785 0.64170367]\n",
            "12 day output [[0.6342603]]\n",
            "13 day input [0.79329279 0.80776475 0.77772307 0.81029623 0.82821819 0.82729968\n",
            " 0.82461136 0.8331691  0.83446842 0.85747576 0.91209292 0.92542233\n",
            " 0.91617011 0.93138139 0.91782794 0.91601335 0.95394059 1.\n",
            " 0.9750885  0.88081907 0.88153596 0.80859363 0.84891802 0.81459746\n",
            " 0.80124563 0.83135451 0.83296749 0.80241053 0.78637038 0.75500696\n",
            " 0.78404057 0.79954302 0.75751609 0.76737315 0.80375469 0.82777011\n",
            " 0.81997404 0.83538692 0.84416871 0.81038579 0.84157002 0.81164039\n",
            " 0.82884545 0.82785974 0.84578169 0.91236174 0.88279049 0.88359702\n",
            " 0.87929572 0.86415165 0.83691034 0.85062062 0.8448856  0.83484929\n",
            " 0.828487   0.82857663 0.8424661  0.79407682 0.83099607 0.77310817\n",
            " 0.77230165 0.78726653 0.82768048 0.86424128 0.86119458 0.83995704\n",
            " 0.83682071 0.86836332 0.86585425 0.86630233 0.87562175 0.86746723\n",
            " 0.8552803  0.8607465  0.84909721 0.81782342 0.82965191 0.83735835\n",
            " 0.84237647 0.86442053 0.8973073  0.90053325 0.89927872 0.89309563\n",
            " 0.90653709 0.91218248 0.88888396 0.8336103  0.80970824 0.77988911\n",
            " 0.75083959 0.72519743 0.70386237 0.68688411 0.67377448 0.66369611\n",
            " 0.65564418 0.64860785 0.64170367 0.6342603 ]\n",
            "13 day output [[0.6258585]]\n",
            "14 day input [0.80776475 0.77772307 0.81029623 0.82821819 0.82729968 0.82461136\n",
            " 0.8331691  0.83446842 0.85747576 0.91209292 0.92542233 0.91617011\n",
            " 0.93138139 0.91782794 0.91601335 0.95394059 1.         0.9750885\n",
            " 0.88081907 0.88153596 0.80859363 0.84891802 0.81459746 0.80124563\n",
            " 0.83135451 0.83296749 0.80241053 0.78637038 0.75500696 0.78404057\n",
            " 0.79954302 0.75751609 0.76737315 0.80375469 0.82777011 0.81997404\n",
            " 0.83538692 0.84416871 0.81038579 0.84157002 0.81164039 0.82884545\n",
            " 0.82785974 0.84578169 0.91236174 0.88279049 0.88359702 0.87929572\n",
            " 0.86415165 0.83691034 0.85062062 0.8448856  0.83484929 0.828487\n",
            " 0.82857663 0.8424661  0.79407682 0.83099607 0.77310817 0.77230165\n",
            " 0.78726653 0.82768048 0.86424128 0.86119458 0.83995704 0.83682071\n",
            " 0.86836332 0.86585425 0.86630233 0.87562175 0.86746723 0.8552803\n",
            " 0.8607465  0.84909721 0.81782342 0.82965191 0.83735835 0.84237647\n",
            " 0.86442053 0.8973073  0.90053325 0.89927872 0.89309563 0.90653709\n",
            " 0.91218248 0.88888396 0.8336103  0.80970824 0.77988911 0.75083959\n",
            " 0.72519743 0.70386237 0.68688411 0.67377448 0.66369611 0.65564418\n",
            " 0.64860785 0.64170367 0.6342603  0.62585849]\n",
            "14 day output [[0.61632967]]\n",
            "15 day input [0.77772307 0.81029623 0.82821819 0.82729968 0.82461136 0.8331691\n",
            " 0.83446842 0.85747576 0.91209292 0.92542233 0.91617011 0.93138139\n",
            " 0.91782794 0.91601335 0.95394059 1.         0.9750885  0.88081907\n",
            " 0.88153596 0.80859363 0.84891802 0.81459746 0.80124563 0.83135451\n",
            " 0.83296749 0.80241053 0.78637038 0.75500696 0.78404057 0.79954302\n",
            " 0.75751609 0.76737315 0.80375469 0.82777011 0.81997404 0.83538692\n",
            " 0.84416871 0.81038579 0.84157002 0.81164039 0.82884545 0.82785974\n",
            " 0.84578169 0.91236174 0.88279049 0.88359702 0.87929572 0.86415165\n",
            " 0.83691034 0.85062062 0.8448856  0.83484929 0.828487   0.82857663\n",
            " 0.8424661  0.79407682 0.83099607 0.77310817 0.77230165 0.78726653\n",
            " 0.82768048 0.86424128 0.86119458 0.83995704 0.83682071 0.86836332\n",
            " 0.86585425 0.86630233 0.87562175 0.86746723 0.8552803  0.8607465\n",
            " 0.84909721 0.81782342 0.82965191 0.83735835 0.84237647 0.86442053\n",
            " 0.8973073  0.90053325 0.89927872 0.89309563 0.90653709 0.91218248\n",
            " 0.88888396 0.8336103  0.80970824 0.77988911 0.75083959 0.72519743\n",
            " 0.70386237 0.68688411 0.67377448 0.66369611 0.65564418 0.64860785\n",
            " 0.64170367 0.6342603  0.62585849 0.61632967]\n",
            "15 day output [[0.6057252]]\n",
            "16 day input [0.81029623 0.82821819 0.82729968 0.82461136 0.8331691  0.83446842\n",
            " 0.85747576 0.91209292 0.92542233 0.91617011 0.93138139 0.91782794\n",
            " 0.91601335 0.95394059 1.         0.9750885  0.88081907 0.88153596\n",
            " 0.80859363 0.84891802 0.81459746 0.80124563 0.83135451 0.83296749\n",
            " 0.80241053 0.78637038 0.75500696 0.78404057 0.79954302 0.75751609\n",
            " 0.76737315 0.80375469 0.82777011 0.81997404 0.83538692 0.84416871\n",
            " 0.81038579 0.84157002 0.81164039 0.82884545 0.82785974 0.84578169\n",
            " 0.91236174 0.88279049 0.88359702 0.87929572 0.86415165 0.83691034\n",
            " 0.85062062 0.8448856  0.83484929 0.828487   0.82857663 0.8424661\n",
            " 0.79407682 0.83099607 0.77310817 0.77230165 0.78726653 0.82768048\n",
            " 0.86424128 0.86119458 0.83995704 0.83682071 0.86836332 0.86585425\n",
            " 0.86630233 0.87562175 0.86746723 0.8552803  0.8607465  0.84909721\n",
            " 0.81782342 0.82965191 0.83735835 0.84237647 0.86442053 0.8973073\n",
            " 0.90053325 0.89927872 0.89309563 0.90653709 0.91218248 0.88888396\n",
            " 0.8336103  0.80970824 0.77988911 0.75083959 0.72519743 0.70386237\n",
            " 0.68688411 0.67377448 0.66369611 0.65564418 0.64860785 0.64170367\n",
            " 0.6342603  0.62585849 0.61632967 0.60572523]\n",
            "16 day output [[0.5942654]]\n",
            "17 day input [0.82821819 0.82729968 0.82461136 0.8331691  0.83446842 0.85747576\n",
            " 0.91209292 0.92542233 0.91617011 0.93138139 0.91782794 0.91601335\n",
            " 0.95394059 1.         0.9750885  0.88081907 0.88153596 0.80859363\n",
            " 0.84891802 0.81459746 0.80124563 0.83135451 0.83296749 0.80241053\n",
            " 0.78637038 0.75500696 0.78404057 0.79954302 0.75751609 0.76737315\n",
            " 0.80375469 0.82777011 0.81997404 0.83538692 0.84416871 0.81038579\n",
            " 0.84157002 0.81164039 0.82884545 0.82785974 0.84578169 0.91236174\n",
            " 0.88279049 0.88359702 0.87929572 0.86415165 0.83691034 0.85062062\n",
            " 0.8448856  0.83484929 0.828487   0.82857663 0.8424661  0.79407682\n",
            " 0.83099607 0.77310817 0.77230165 0.78726653 0.82768048 0.86424128\n",
            " 0.86119458 0.83995704 0.83682071 0.86836332 0.86585425 0.86630233\n",
            " 0.87562175 0.86746723 0.8552803  0.8607465  0.84909721 0.81782342\n",
            " 0.82965191 0.83735835 0.84237647 0.86442053 0.8973073  0.90053325\n",
            " 0.89927872 0.89309563 0.90653709 0.91218248 0.88888396 0.8336103\n",
            " 0.80970824 0.77988911 0.75083959 0.72519743 0.70386237 0.68688411\n",
            " 0.67377448 0.66369611 0.65564418 0.64860785 0.64170367 0.6342603\n",
            " 0.62585849 0.61632967 0.60572523 0.5942654 ]\n",
            "17 day output [[0.5822776]]\n",
            "18 day input [0.82729968 0.82461136 0.8331691  0.83446842 0.85747576 0.91209292\n",
            " 0.92542233 0.91617011 0.93138139 0.91782794 0.91601335 0.95394059\n",
            " 1.         0.9750885  0.88081907 0.88153596 0.80859363 0.84891802\n",
            " 0.81459746 0.80124563 0.83135451 0.83296749 0.80241053 0.78637038\n",
            " 0.75500696 0.78404057 0.79954302 0.75751609 0.76737315 0.80375469\n",
            " 0.82777011 0.81997404 0.83538692 0.84416871 0.81038579 0.84157002\n",
            " 0.81164039 0.82884545 0.82785974 0.84578169 0.91236174 0.88279049\n",
            " 0.88359702 0.87929572 0.86415165 0.83691034 0.85062062 0.8448856\n",
            " 0.83484929 0.828487   0.82857663 0.8424661  0.79407682 0.83099607\n",
            " 0.77310817 0.77230165 0.78726653 0.82768048 0.86424128 0.86119458\n",
            " 0.83995704 0.83682071 0.86836332 0.86585425 0.86630233 0.87562175\n",
            " 0.86746723 0.8552803  0.8607465  0.84909721 0.81782342 0.82965191\n",
            " 0.83735835 0.84237647 0.86442053 0.8973073  0.90053325 0.89927872\n",
            " 0.89309563 0.90653709 0.91218248 0.88888396 0.8336103  0.80970824\n",
            " 0.77988911 0.75083959 0.72519743 0.70386237 0.68688411 0.67377448\n",
            " 0.66369611 0.65564418 0.64860785 0.64170367 0.6342603  0.62585849\n",
            " 0.61632967 0.60572523 0.5942654  0.5822776 ]\n",
            "18 day output [[0.570136]]\n",
            "19 day input [0.82461136 0.8331691  0.83446842 0.85747576 0.91209292 0.92542233\n",
            " 0.91617011 0.93138139 0.91782794 0.91601335 0.95394059 1.\n",
            " 0.9750885  0.88081907 0.88153596 0.80859363 0.84891802 0.81459746\n",
            " 0.80124563 0.83135451 0.83296749 0.80241053 0.78637038 0.75500696\n",
            " 0.78404057 0.79954302 0.75751609 0.76737315 0.80375469 0.82777011\n",
            " 0.81997404 0.83538692 0.84416871 0.81038579 0.84157002 0.81164039\n",
            " 0.82884545 0.82785974 0.84578169 0.91236174 0.88279049 0.88359702\n",
            " 0.87929572 0.86415165 0.83691034 0.85062062 0.8448856  0.83484929\n",
            " 0.828487   0.82857663 0.8424661  0.79407682 0.83099607 0.77310817\n",
            " 0.77230165 0.78726653 0.82768048 0.86424128 0.86119458 0.83995704\n",
            " 0.83682071 0.86836332 0.86585425 0.86630233 0.87562175 0.86746723\n",
            " 0.8552803  0.8607465  0.84909721 0.81782342 0.82965191 0.83735835\n",
            " 0.84237647 0.86442053 0.8973073  0.90053325 0.89927872 0.89309563\n",
            " 0.90653709 0.91218248 0.88888396 0.8336103  0.80970824 0.77988911\n",
            " 0.75083959 0.72519743 0.70386237 0.68688411 0.67377448 0.66369611\n",
            " 0.65564418 0.64860785 0.64170367 0.6342603  0.62585849 0.61632967\n",
            " 0.60572523 0.5942654  0.5822776  0.57013601]\n",
            "19 day output [[0.5582061]]\n",
            "20 day input [0.8331691  0.83446842 0.85747576 0.91209292 0.92542233 0.91617011\n",
            " 0.93138139 0.91782794 0.91601335 0.95394059 1.         0.9750885\n",
            " 0.88081907 0.88153596 0.80859363 0.84891802 0.81459746 0.80124563\n",
            " 0.83135451 0.83296749 0.80241053 0.78637038 0.75500696 0.78404057\n",
            " 0.79954302 0.75751609 0.76737315 0.80375469 0.82777011 0.81997404\n",
            " 0.83538692 0.84416871 0.81038579 0.84157002 0.81164039 0.82884545\n",
            " 0.82785974 0.84578169 0.91236174 0.88279049 0.88359702 0.87929572\n",
            " 0.86415165 0.83691034 0.85062062 0.8448856  0.83484929 0.828487\n",
            " 0.82857663 0.8424661  0.79407682 0.83099607 0.77310817 0.77230165\n",
            " 0.78726653 0.82768048 0.86424128 0.86119458 0.83995704 0.83682071\n",
            " 0.86836332 0.86585425 0.86630233 0.87562175 0.86746723 0.8552803\n",
            " 0.8607465  0.84909721 0.81782342 0.82965191 0.83735835 0.84237647\n",
            " 0.86442053 0.8973073  0.90053325 0.89927872 0.89309563 0.90653709\n",
            " 0.91218248 0.88888396 0.8336103  0.80970824 0.77988911 0.75083959\n",
            " 0.72519743 0.70386237 0.68688411 0.67377448 0.66369611 0.65564418\n",
            " 0.64860785 0.64170367 0.6342603  0.62585849 0.61632967 0.60572523\n",
            " 0.5942654  0.5822776  0.57013601 0.55820608]\n",
            "20 day output [[0.5468001]]\n",
            "21 day input [0.83446842 0.85747576 0.91209292 0.92542233 0.91617011 0.93138139\n",
            " 0.91782794 0.91601335 0.95394059 1.         0.9750885  0.88081907\n",
            " 0.88153596 0.80859363 0.84891802 0.81459746 0.80124563 0.83135451\n",
            " 0.83296749 0.80241053 0.78637038 0.75500696 0.78404057 0.79954302\n",
            " 0.75751609 0.76737315 0.80375469 0.82777011 0.81997404 0.83538692\n",
            " 0.84416871 0.81038579 0.84157002 0.81164039 0.82884545 0.82785974\n",
            " 0.84578169 0.91236174 0.88279049 0.88359702 0.87929572 0.86415165\n",
            " 0.83691034 0.85062062 0.8448856  0.83484929 0.828487   0.82857663\n",
            " 0.8424661  0.79407682 0.83099607 0.77310817 0.77230165 0.78726653\n",
            " 0.82768048 0.86424128 0.86119458 0.83995704 0.83682071 0.86836332\n",
            " 0.86585425 0.86630233 0.87562175 0.86746723 0.8552803  0.8607465\n",
            " 0.84909721 0.81782342 0.82965191 0.83735835 0.84237647 0.86442053\n",
            " 0.8973073  0.90053325 0.89927872 0.89309563 0.90653709 0.91218248\n",
            " 0.88888396 0.8336103  0.80970824 0.77988911 0.75083959 0.72519743\n",
            " 0.70386237 0.68688411 0.67377448 0.66369611 0.65564418 0.64860785\n",
            " 0.64170367 0.6342603  0.62585849 0.61632967 0.60572523 0.5942654\n",
            " 0.5822776  0.57013601 0.55820608 0.54680008]\n",
            "21 day output [[0.5361489]]\n",
            "22 day input [0.85747576 0.91209292 0.92542233 0.91617011 0.93138139 0.91782794\n",
            " 0.91601335 0.95394059 1.         0.9750885  0.88081907 0.88153596\n",
            " 0.80859363 0.84891802 0.81459746 0.80124563 0.83135451 0.83296749\n",
            " 0.80241053 0.78637038 0.75500696 0.78404057 0.79954302 0.75751609\n",
            " 0.76737315 0.80375469 0.82777011 0.81997404 0.83538692 0.84416871\n",
            " 0.81038579 0.84157002 0.81164039 0.82884545 0.82785974 0.84578169\n",
            " 0.91236174 0.88279049 0.88359702 0.87929572 0.86415165 0.83691034\n",
            " 0.85062062 0.8448856  0.83484929 0.828487   0.82857663 0.8424661\n",
            " 0.79407682 0.83099607 0.77310817 0.77230165 0.78726653 0.82768048\n",
            " 0.86424128 0.86119458 0.83995704 0.83682071 0.86836332 0.86585425\n",
            " 0.86630233 0.87562175 0.86746723 0.8552803  0.8607465  0.84909721\n",
            " 0.81782342 0.82965191 0.83735835 0.84237647 0.86442053 0.8973073\n",
            " 0.90053325 0.89927872 0.89309563 0.90653709 0.91218248 0.88888396\n",
            " 0.8336103  0.80970824 0.77988911 0.75083959 0.72519743 0.70386237\n",
            " 0.68688411 0.67377448 0.66369611 0.65564418 0.64860785 0.64170367\n",
            " 0.6342603  0.62585849 0.61632967 0.60572523 0.5942654  0.5822776\n",
            " 0.57013601 0.55820608 0.54680008 0.53614891]\n",
            "22 day output [[0.52638763]]\n",
            "23 day input [0.91209292 0.92542233 0.91617011 0.93138139 0.91782794 0.91601335\n",
            " 0.95394059 1.         0.9750885  0.88081907 0.88153596 0.80859363\n",
            " 0.84891802 0.81459746 0.80124563 0.83135451 0.83296749 0.80241053\n",
            " 0.78637038 0.75500696 0.78404057 0.79954302 0.75751609 0.76737315\n",
            " 0.80375469 0.82777011 0.81997404 0.83538692 0.84416871 0.81038579\n",
            " 0.84157002 0.81164039 0.82884545 0.82785974 0.84578169 0.91236174\n",
            " 0.88279049 0.88359702 0.87929572 0.86415165 0.83691034 0.85062062\n",
            " 0.8448856  0.83484929 0.828487   0.82857663 0.8424661  0.79407682\n",
            " 0.83099607 0.77310817 0.77230165 0.78726653 0.82768048 0.86424128\n",
            " 0.86119458 0.83995704 0.83682071 0.86836332 0.86585425 0.86630233\n",
            " 0.87562175 0.86746723 0.8552803  0.8607465  0.84909721 0.81782342\n",
            " 0.82965191 0.83735835 0.84237647 0.86442053 0.8973073  0.90053325\n",
            " 0.89927872 0.89309563 0.90653709 0.91218248 0.88888396 0.8336103\n",
            " 0.80970824 0.77988911 0.75083959 0.72519743 0.70386237 0.68688411\n",
            " 0.67377448 0.66369611 0.65564418 0.64860785 0.64170367 0.6342603\n",
            " 0.62585849 0.61632967 0.60572523 0.5942654  0.5822776  0.57013601\n",
            " 0.55820608 0.54680008 0.53614891 0.52638763]\n",
            "23 day output [[0.51755583]]\n",
            "24 day input [0.92542233 0.91617011 0.93138139 0.91782794 0.91601335 0.95394059\n",
            " 1.         0.9750885  0.88081907 0.88153596 0.80859363 0.84891802\n",
            " 0.81459746 0.80124563 0.83135451 0.83296749 0.80241053 0.78637038\n",
            " 0.75500696 0.78404057 0.79954302 0.75751609 0.76737315 0.80375469\n",
            " 0.82777011 0.81997404 0.83538692 0.84416871 0.81038579 0.84157002\n",
            " 0.81164039 0.82884545 0.82785974 0.84578169 0.91236174 0.88279049\n",
            " 0.88359702 0.87929572 0.86415165 0.83691034 0.85062062 0.8448856\n",
            " 0.83484929 0.828487   0.82857663 0.8424661  0.79407682 0.83099607\n",
            " 0.77310817 0.77230165 0.78726653 0.82768048 0.86424128 0.86119458\n",
            " 0.83995704 0.83682071 0.86836332 0.86585425 0.86630233 0.87562175\n",
            " 0.86746723 0.8552803  0.8607465  0.84909721 0.81782342 0.82965191\n",
            " 0.83735835 0.84237647 0.86442053 0.8973073  0.90053325 0.89927872\n",
            " 0.89309563 0.90653709 0.91218248 0.88888396 0.8336103  0.80970824\n",
            " 0.77988911 0.75083959 0.72519743 0.70386237 0.68688411 0.67377448\n",
            " 0.66369611 0.65564418 0.64860785 0.64170367 0.6342603  0.62585849\n",
            " 0.61632967 0.60572523 0.5942654  0.5822776  0.57013601 0.55820608\n",
            " 0.54680008 0.53614891 0.52638763 0.51755583]\n",
            "24 day output [[0.5096091]]\n",
            "25 day input [0.91617011 0.93138139 0.91782794 0.91601335 0.95394059 1.\n",
            " 0.9750885  0.88081907 0.88153596 0.80859363 0.84891802 0.81459746\n",
            " 0.80124563 0.83135451 0.83296749 0.80241053 0.78637038 0.75500696\n",
            " 0.78404057 0.79954302 0.75751609 0.76737315 0.80375469 0.82777011\n",
            " 0.81997404 0.83538692 0.84416871 0.81038579 0.84157002 0.81164039\n",
            " 0.82884545 0.82785974 0.84578169 0.91236174 0.88279049 0.88359702\n",
            " 0.87929572 0.86415165 0.83691034 0.85062062 0.8448856  0.83484929\n",
            " 0.828487   0.82857663 0.8424661  0.79407682 0.83099607 0.77310817\n",
            " 0.77230165 0.78726653 0.82768048 0.86424128 0.86119458 0.83995704\n",
            " 0.83682071 0.86836332 0.86585425 0.86630233 0.87562175 0.86746723\n",
            " 0.8552803  0.8607465  0.84909721 0.81782342 0.82965191 0.83735835\n",
            " 0.84237647 0.86442053 0.8973073  0.90053325 0.89927872 0.89309563\n",
            " 0.90653709 0.91218248 0.88888396 0.8336103  0.80970824 0.77988911\n",
            " 0.75083959 0.72519743 0.70386237 0.68688411 0.67377448 0.66369611\n",
            " 0.65564418 0.64860785 0.64170367 0.6342603  0.62585849 0.61632967\n",
            " 0.60572523 0.5942654  0.5822776  0.57013601 0.55820608 0.54680008\n",
            " 0.53614891 0.52638763 0.51755583 0.5096091 ]\n",
            "25 day output [[0.50243914]]\n",
            "26 day input [0.93138139 0.91782794 0.91601335 0.95394059 1.         0.9750885\n",
            " 0.88081907 0.88153596 0.80859363 0.84891802 0.81459746 0.80124563\n",
            " 0.83135451 0.83296749 0.80241053 0.78637038 0.75500696 0.78404057\n",
            " 0.79954302 0.75751609 0.76737315 0.80375469 0.82777011 0.81997404\n",
            " 0.83538692 0.84416871 0.81038579 0.84157002 0.81164039 0.82884545\n",
            " 0.82785974 0.84578169 0.91236174 0.88279049 0.88359702 0.87929572\n",
            " 0.86415165 0.83691034 0.85062062 0.8448856  0.83484929 0.828487\n",
            " 0.82857663 0.8424661  0.79407682 0.83099607 0.77310817 0.77230165\n",
            " 0.78726653 0.82768048 0.86424128 0.86119458 0.83995704 0.83682071\n",
            " 0.86836332 0.86585425 0.86630233 0.87562175 0.86746723 0.8552803\n",
            " 0.8607465  0.84909721 0.81782342 0.82965191 0.83735835 0.84237647\n",
            " 0.86442053 0.8973073  0.90053325 0.89927872 0.89309563 0.90653709\n",
            " 0.91218248 0.88888396 0.8336103  0.80970824 0.77988911 0.75083959\n",
            " 0.72519743 0.70386237 0.68688411 0.67377448 0.66369611 0.65564418\n",
            " 0.64860785 0.64170367 0.6342603  0.62585849 0.61632967 0.60572523\n",
            " 0.5942654  0.5822776  0.57013601 0.55820608 0.54680008 0.53614891\n",
            " 0.52638763 0.51755583 0.5096091  0.50243914]\n",
            "26 day output [[0.49589637]]\n",
            "27 day input [0.91782794 0.91601335 0.95394059 1.         0.9750885  0.88081907\n",
            " 0.88153596 0.80859363 0.84891802 0.81459746 0.80124563 0.83135451\n",
            " 0.83296749 0.80241053 0.78637038 0.75500696 0.78404057 0.79954302\n",
            " 0.75751609 0.76737315 0.80375469 0.82777011 0.81997404 0.83538692\n",
            " 0.84416871 0.81038579 0.84157002 0.81164039 0.82884545 0.82785974\n",
            " 0.84578169 0.91236174 0.88279049 0.88359702 0.87929572 0.86415165\n",
            " 0.83691034 0.85062062 0.8448856  0.83484929 0.828487   0.82857663\n",
            " 0.8424661  0.79407682 0.83099607 0.77310817 0.77230165 0.78726653\n",
            " 0.82768048 0.86424128 0.86119458 0.83995704 0.83682071 0.86836332\n",
            " 0.86585425 0.86630233 0.87562175 0.86746723 0.8552803  0.8607465\n",
            " 0.84909721 0.81782342 0.82965191 0.83735835 0.84237647 0.86442053\n",
            " 0.8973073  0.90053325 0.89927872 0.89309563 0.90653709 0.91218248\n",
            " 0.88888396 0.8336103  0.80970824 0.77988911 0.75083959 0.72519743\n",
            " 0.70386237 0.68688411 0.67377448 0.66369611 0.65564418 0.64860785\n",
            " 0.64170367 0.6342603  0.62585849 0.61632967 0.60572523 0.5942654\n",
            " 0.5822776  0.57013601 0.55820608 0.54680008 0.53614891 0.52638763\n",
            " 0.51755583 0.5096091  0.50243914 0.49589637]\n",
            "27 day output [[0.48981452]]\n",
            "28 day input [0.91601335 0.95394059 1.         0.9750885  0.88081907 0.88153596\n",
            " 0.80859363 0.84891802 0.81459746 0.80124563 0.83135451 0.83296749\n",
            " 0.80241053 0.78637038 0.75500696 0.78404057 0.79954302 0.75751609\n",
            " 0.76737315 0.80375469 0.82777011 0.81997404 0.83538692 0.84416871\n",
            " 0.81038579 0.84157002 0.81164039 0.82884545 0.82785974 0.84578169\n",
            " 0.91236174 0.88279049 0.88359702 0.87929572 0.86415165 0.83691034\n",
            " 0.85062062 0.8448856  0.83484929 0.828487   0.82857663 0.8424661\n",
            " 0.79407682 0.83099607 0.77310817 0.77230165 0.78726653 0.82768048\n",
            " 0.86424128 0.86119458 0.83995704 0.83682071 0.86836332 0.86585425\n",
            " 0.86630233 0.87562175 0.86746723 0.8552803  0.8607465  0.84909721\n",
            " 0.81782342 0.82965191 0.83735835 0.84237647 0.86442053 0.8973073\n",
            " 0.90053325 0.89927872 0.89309563 0.90653709 0.91218248 0.88888396\n",
            " 0.8336103  0.80970824 0.77988911 0.75083959 0.72519743 0.70386237\n",
            " 0.68688411 0.67377448 0.66369611 0.65564418 0.64860785 0.64170367\n",
            " 0.6342603  0.62585849 0.61632967 0.60572523 0.5942654  0.5822776\n",
            " 0.57013601 0.55820608 0.54680008 0.53614891 0.52638763 0.51755583\n",
            " 0.5096091  0.50243914 0.49589637 0.48981452]\n",
            "28 day output [[0.48403108]]\n",
            "29 day input [0.95394059 1.         0.9750885  0.88081907 0.88153596 0.80859363\n",
            " 0.84891802 0.81459746 0.80124563 0.83135451 0.83296749 0.80241053\n",
            " 0.78637038 0.75500696 0.78404057 0.79954302 0.75751609 0.76737315\n",
            " 0.80375469 0.82777011 0.81997404 0.83538692 0.84416871 0.81038579\n",
            " 0.84157002 0.81164039 0.82884545 0.82785974 0.84578169 0.91236174\n",
            " 0.88279049 0.88359702 0.87929572 0.86415165 0.83691034 0.85062062\n",
            " 0.8448856  0.83484929 0.828487   0.82857663 0.8424661  0.79407682\n",
            " 0.83099607 0.77310817 0.77230165 0.78726653 0.82768048 0.86424128\n",
            " 0.86119458 0.83995704 0.83682071 0.86836332 0.86585425 0.86630233\n",
            " 0.87562175 0.86746723 0.8552803  0.8607465  0.84909721 0.81782342\n",
            " 0.82965191 0.83735835 0.84237647 0.86442053 0.8973073  0.90053325\n",
            " 0.89927872 0.89309563 0.90653709 0.91218248 0.88888396 0.8336103\n",
            " 0.80970824 0.77988911 0.75083959 0.72519743 0.70386237 0.68688411\n",
            " 0.67377448 0.66369611 0.65564418 0.64860785 0.64170367 0.6342603\n",
            " 0.62585849 0.61632967 0.60572523 0.5942654  0.5822776  0.57013601\n",
            " 0.55820608 0.54680008 0.53614891 0.52638763 0.51755583 0.5096091\n",
            " 0.50243914 0.49589637 0.48981452 0.48403108]\n",
            "29 day output [[0.47840333]]\n",
            "[[0.8336102962493896], [0.8097082376480103], [0.7798891067504883], [0.7508395910263062], [0.725197434425354], [0.7038623690605164], [0.6868841052055359], [0.6737744808197021], [0.6636961102485657], [0.6556441783905029], [0.6486078500747681], [0.6417036652565002], [0.6342602968215942], [0.6258584856987], [0.6163296699523926], [0.6057252287864685], [0.5942654013633728], [0.5822775959968567], [0.5701360106468201], [0.5582060813903809], [0.5468000769615173], [0.5361489057540894], [0.526387631893158], [0.517555832862854], [0.5096091032028198], [0.5024391412734985], [0.4958963692188263], [0.48981451988220215], [0.484031081199646], [0.47840332984924316]]\n"
          ],
          "name": "stdout"
        }
      ]
    },
    {
      "cell_type": "code",
      "metadata": {
        "id": "TLzyoiUfa3qI"
      },
      "source": [
        "# In the test data we take the 100 indices in the days variable.\r\n",
        "# And then read the next 30 indices to figure out the next 30 days.\r\n",
        "days = np.arange(1,101)\r\n",
        "predicted_days = np.arange(101,131)"
      ],
      "execution_count": null,
      "outputs": []
    },
    {
      "cell_type": "code",
      "metadata": {
        "colab": {
          "base_uri": "https://localhost:8080/"
        },
        "id": "daLE8QwCbDrZ",
        "outputId": "d977777e-a79a-4825-9aad-9b2a1fa8b10e"
      },
      "source": [
        "len(df1)"
      ],
      "execution_count": null,
      "outputs": [
        {
          "output_type": "execute_result",
          "data": {
            "text/plain": [
              "1496"
            ]
          },
          "metadata": {
            "tags": []
          },
          "execution_count": 64
        }
      ]
    },
    {
      "cell_type": "code",
      "metadata": {
        "colab": {
          "base_uri": "https://localhost:8080/",
          "height": 282
        },
        "id": "qZDR5BhibFcO",
        "outputId": "b76aeef6-c555-4d5d-9f0f-89f0931d2c83"
      },
      "source": [
        "# This number is 1396 because we are taking the last 100 days worth of data, so we subtract from the length of df1.\r\n",
        "plt.plot(days,scaler.inverse_transform(df1[1396:]))\r\n",
        "plt.plot(predicted_days,scaler.inverse_transform(lst_output))"
      ],
      "execution_count": null,
      "outputs": [
        {
          "output_type": "execute_result",
          "data": {
            "text/plain": [
              "[<matplotlib.lines.Line2D at 0x7f9caf34d7b8>]"
            ]
          },
          "metadata": {
            "tags": []
          },
          "execution_count": 65
        },
        {
          "output_type": "display_data",
          "data": {
            "image/png": "[encoded data removed]",
            "text/plain": [
              "<Figure size 432x288 with 1 Axes>"
            ]
          },
          "metadata": {
            "tags": [],
            "needs_background": "light"
          }
        }
      ]
    },
    {
      "cell_type": "code",
      "metadata": {
        "colab": {
          "base_uri": "https://localhost:8080/",
          "height": 282
        },
        "id": "99tSpc72bRN6",
        "outputId": "227dfb61-b979-4b38-c863-8e297a0221f0"
      },
      "source": [
        "# We combine the df1 chart to df3 to smoothen out the chart.\r\n",
        "df3 = df1.tolist()\r\n",
        "df3.extend(lst_output)\r\n",
        "plt.plot(df3[1400:])"
      ],
      "execution_count": null,
      "outputs": [
        {
          "output_type": "execute_result",
          "data": {
            "text/plain": [
              "[<matplotlib.lines.Line2D at 0x7f9caf1a5320>]"
            ]
          },
          "metadata": {
            "tags": []
          },
          "execution_count": 66
        },
        {
          "output_type": "display_data",
          "data": {
            "image/png": "[encoded data removed]",
            "text/plain": [
              "<Figure size 432x288 with 1 Axes>"
            ]
          },
          "metadata": {
            "tags": [],
            "needs_background": "light"
          }
        }
      ]
    },
    {
      "cell_type": "code",
      "metadata": {
        "colab": {
          "base_uri": "https://localhost:8080/",
          "height": 282
        },
        "id": "h605psxVbWX0",
        "outputId": "36cf2999-1f11-44f7-a0d4-ff2483af2388"
      },
      "source": [
        "# We transform it back to the original scaler data from 2015 to the present.\r\n",
        "df3 = scaler.inverse_transform(df3).tolist()\r\n",
        "plt.plot(df3)"
      ],
      "execution_count": null,
      "outputs": [
        {
          "output_type": "execute_result",
          "data": {
            "text/plain": [
              "[<matplotlib.lines.Line2D at 0x7f9caf2c5780>]"
            ]
          },
          "metadata": {
            "tags": []
          },
          "execution_count": 67
        },
        {
          "output_type": "display_data",
          "data": {
            "image/png": "[encoded data removed]",
            "text/plain": [
              "<Figure size 432x288 with 1 Axes>"
            ]
          },
          "metadata": {
            "tags": [],
            "needs_background": "light"
          }
        }
      ]
    }
  ]
}